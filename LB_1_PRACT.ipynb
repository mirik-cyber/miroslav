{
  "nbformat": 4,
  "nbformat_minor": 0,
  "metadata": {
    "colab": {
      "provenance": []
    },
    "kernelspec": {
      "name": "python3",
      "display_name": "Python 3"
    },
    "language_info": {
      "name": "python"
    }
  },
  "cells": [
    {
      "cell_type": "markdown",
      "source": [
        "## Пример использования Markdown\n",
        "\n",
        "Спсок дел:\n",
        "  1. поесть.\n",
        "  2. пресс качат.\n",
        "  3. поспать.\n",
        "  4. лаба по практике.\n",
        "\n",
        "![ГИГАЧАД](https://avatars.mds.yandex.net/i?id=af140eea345b319232b83c43c13749848505094b-9069268-images-thumbs&n=13)\n",
        "\n",
        "|сколько мне лет|кто делал лабу|важно|\n",
        "|:-:|:-:|:-:|\n",
        "|0|Якунин Павел|42|\n",
        "|дед|Ященко Некита|78743|\n",
        "|7|Приходько Мирослав|=|\n",
        "\n",
        "[СУПЕР ВАЖНО](https://www.youtube.com/watch?v=dQw4w9WgXcQ)"
      ],
      "metadata": {
        "id": "gw8Bl0pvCfYR"
      }
    },
    {
      "cell_type": "markdown",
      "source": [],
      "metadata": {
        "id": "m2smXUHWCvBk"
      }
    }
  ]
}